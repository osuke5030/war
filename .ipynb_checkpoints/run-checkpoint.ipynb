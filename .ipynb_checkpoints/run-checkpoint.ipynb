{
 "cells": [
  {
   "cell_type": "code",
   "execution_count": 4,
   "id": "1a7bc69a",
   "metadata": {},
   "outputs": [
    {
     "name": "stdout",
     "output_type": "stream",
     "text": [
      "<requests_oauthlib.oauth1_session.OAuth1Session object at 0x7f7c39c192b0>\n",
      "投稿準備完了\n",
      "<Response [200]>\n",
      "スニのウォーの取得完了\n"
     ]
    }
   ],
   "source": [
    "import requests\n",
    "from bs4 import BeautifulSoup\n",
    "import os\n",
    "import json\n",
    "import sys\n",
    "sys.path.append(\"/Users/kuramochiosuke/.pyenv/versions/3.10.4/Library/Frameworks/Python.framework/Versions/3.10/lib/python3.10/site-packages\")\n",
    "from requests_oauthlib import OAuth1Session\n",
    "sys.path.append(\"/Users/kuramochiosuke/.pyenv/versions/3.10.4/lib/python3.10/site-packages\")\n",
    "from dotenv import find_dotenv, load_dotenv\n",
    "import requests\n",
    "import schedule\n",
    "import time\n",
    "import openpyxl\n",
    "\n",
    "\n",
    "# .envファイルを探して読み込み\n",
    "env_file = find_dotenv()\n",
    "load_dotenv(env_file)  \n",
    "\n",
    "CONSUMER_KEY = os.environ.get('CONSUMER_KEY')\n",
    "CONSUMER_SECRET = os.environ.get('CONSUMER_SECRET')\n",
    "ACCESS_KEY = os.environ.get('ACCESS_KEY')\n",
    "ACCESS_KEY_SECRET = os.environ.get('ACCESS_KEY_SECRET')\n",
    "\n",
    "# Twitterの認証\n",
    "twitter = OAuth1Session(CONSUMER_KEY, CONSUMER_SECRET, ACCESS_KEY, ACCESS_KEY_SECRET)\n",
    "print(twitter)\n",
    "\n",
    "#エンドポイント\n",
    "url_text = 'https://api.twitter.com/1.1/statuses/update.json'\n",
    "url_media = \"https://upload.twitter.com/1.1/media/upload.json\"\n",
    "\n",
    "\n",
    "\n",
    "# ここまでTwitter投稿の準備\n",
    "print(\"投稿準備完了\")\n",
    "\n",
    "\n",
    "#スニだんのページの指定\n",
    "URL = 'https://sneakerwars.jp'\n",
    "# リクエストヘッダの指定\n",
    "headers = {\"User-Agent\": \"hoge\"}\n",
    "response = requests.get(URL,  headers=headers)\n",
    "r_text=response.text\n",
    "soup = BeautifulSoup(r_text, 'html.parser')\n",
    "\n",
    "\n",
    "print('スニのウォーの取得完了')"
   ]
  },
  {
   "cell_type": "code",
   "execution_count": null,
   "id": "f5af06da",
   "metadata": {},
   "outputs": [],
   "source": []
  }
 ],
 "metadata": {
  "kernelspec": {
   "display_name": "Python 3 (ipykernel)",
   "language": "python",
   "name": "python3"
  },
  "language_info": {
   "codemirror_mode": {
    "name": "ipython",
    "version": 3
   },
   "file_extension": ".py",
   "mimetype": "text/x-python",
   "name": "python",
   "nbconvert_exporter": "python",
   "pygments_lexer": "ipython3",
   "version": "3.9.12"
  }
 },
 "nbformat": 4,
 "nbformat_minor": 5
}
