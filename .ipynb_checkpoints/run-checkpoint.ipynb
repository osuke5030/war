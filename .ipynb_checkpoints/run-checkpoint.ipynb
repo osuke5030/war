{
 "cells": [
  {
   "cell_type": "code",
   "execution_count": 47,
   "id": "a348f6ce",
   "metadata": {},
   "outputs": [
    {
     "name": "stdout",
     "output_type": "stream",
     "text": [
      "<requests_oauthlib.oauth1_session.OAuth1Session object at 0x7f7c3b6dc4f0>\n",
      "投稿準備完了\n",
      "スニのウォーの取得完了\n"
     ]
    }
   ],
   "source": [
    "import requests\n",
    "from bs4 import BeautifulSoup\n",
    "import os\n",
    "import json\n",
    "import sys\n",
    "sys.path.append(\"/Users/kuramochiosuke/.pyenv/versions/3.10.4/Library/Frameworks/Python.framework/Versions/3.10/lib/python3.10/site-packages\")\n",
    "from requests_oauthlib import OAuth1Session\n",
    "sys.path.append(\"/Users/kuramochiosuke/.pyenv/versions/3.10.4/lib/python3.10/site-packages\")\n",
    "from dotenv import find_dotenv, load_dotenv\n",
    "import requests\n",
    "import schedule\n",
    "import time\n",
    "import openpyxl\n",
    "\n",
    "\n",
    "# .envファイルを探して読み込み\n",
    "env_file = find_dotenv()\n",
    "load_dotenv(env_file)  \n",
    "\n",
    "CONSUMER_KEY = os.environ.get('CONSUMER_KEY')\n",
    "CONSUMER_SECRET = os.environ.get('CONSUMER_SECRET')\n",
    "ACCESS_KEY = os.environ.get('ACCESS_KEY')\n",
    "ACCESS_KEY_SECRET = os.environ.get('ACCESS_KEY_SECRET')\n",
    "\n",
    "# Twitterの認証\n",
    "twitter = OAuth1Session(CONSUMER_KEY, CONSUMER_SECRET, ACCESS_KEY, ACCESS_KEY_SECRET)\n",
    "print(twitter)\n",
    "\n",
    "#エンドポイント\n",
    "url_text = 'https://api.twitter.com/1.1/statuses/update.json'\n",
    "url_media = \"https://upload.twitter.com/1.1/media/upload.json\"\n",
    "\n",
    "\n",
    "\n",
    "# ここまでTwitter投稿の準備\n",
    "print(\"投稿準備完了\")\n",
    "\n",
    "\n",
    "#スニだんのページの指定\n",
    "URL = 'https://sneakerwars.jp'\n",
    "# リクエストヘッダの指定\n",
    "headers = {\"User-Agent\": \"hoge\"}\n",
    "response = requests.get(URL,  headers=headers)\n",
    "r_text=response.text\n",
    "soup = BeautifulSoup(r_text, 'html.parser')\n",
    "\n",
    "\n",
    "print('スニのウォーの取得完了')"
   ]
  },
  {
   "cell_type": "code",
   "execution_count": 48,
   "id": "c3d4a7ac",
   "metadata": {},
   "outputs": [
    {
     "data": {
      "text/plain": [
       "<div class=\"col-6\"><div class=\"card\">\n",
       "<div class=\"card-image\" style=\"\">\n",
       "<div class=\"imagebox\"><a href=\"/items/view/16483\"><img alt=\"ナイキ エアフォース 1 ‘07 LV8 &amp;quot;ワールド チャンプ&amp;quot; ホワイト/ブラック(DR9866-100)\" class=\"img\" src=\"https://image.sneakerwars.jp/images/16483/larges/nike-air-force-1-07-lv8-world-champ-dr9866-100-1.png\" width=\"100%\"/></a></div><div class=\"calender_date_big\" style=\"top:0%; left:0%;\"><span class=\"cal_month\">7/2</span></div></div><div class=\"card-body\">\n",
       "<p class=\"card-description\">ナイキ エアフォース 1 ‘07 LV8 \"ワールド チャンプ\" ホワイト/ブラック(DR9866-100)</p>\n",
       "<div class=\"card-footer d-none d-sm-block\">\n",
       "<div class=\"stats stats-right\"> <i class=\"fa fa-clock-o\"></i> <time datetime=\"2022-07-01T20:23:00+09:00\">2022.07.01 20:23</time> </div>\n",
       "</div>\n",
       "</div>\n",
       "</div>\n",
       "</div>"
      ]
     },
     "execution_count": 48,
     "metadata": {},
     "output_type": "execute_result"
    }
   ],
   "source": [
    "soup_div=soup.find_all(\"div\",attrs={\"class\",\"col-6\"})[0]\n",
    "soup_div"
   ]
  },
  {
   "cell_type": "code",
   "execution_count": 49,
   "id": "709380b2",
   "metadata": {},
   "outputs": [
    {
     "data": {
      "text/plain": [
       "'https://sneakerwars.jp/items/view/16483'"
      ]
     },
     "execution_count": 49,
     "metadata": {},
     "output_type": "execute_result"
    }
   ],
   "source": [
    "url=soup_div.find(\"a\")['href']\n",
    "soup_url=\"https://sneakerwars.jp\"+url\n",
    "soup_url"
   ]
  },
  {
   "cell_type": "code",
   "execution_count": 50,
   "id": "e61e44e1",
   "metadata": {},
   "outputs": [
    {
     "data": {
      "text/plain": [
       "'https://image.sneakerwars.jp/images/16483/larges/nike-air-force-1-07-lv8-world-champ-dr9866-100-1.png'"
      ]
     },
     "execution_count": 50,
     "metadata": {},
     "output_type": "execute_result"
    }
   ],
   "source": [
    "soup_img=soup_div.find(\"a\").find(\"img\")['src']\n",
    "soup_img"
   ]
  },
  {
   "cell_type": "code",
   "execution_count": 51,
   "id": "a1f40b10",
   "metadata": {},
   "outputs": [
    {
     "name": "stdout",
     "output_type": "stream",
     "text": [
      "詳細ページの取得完了\n"
     ]
    }
   ],
   "source": [
    "# ここから詳細ページ\n",
    "URL = soup_url\n",
    "# リクエストヘッダの指定\n",
    "headers = {\"User-Agent\": \"hoge\"}\n",
    "response = requests.get(URL,  headers=headers)\n",
    "r_text=response.text\n",
    "soup = BeautifulSoup(r_text, 'html.parser')\n",
    "\n",
    "\n",
    "print('詳細ページの取得完了')"
   ]
  },
  {
   "cell_type": "code",
   "execution_count": 52,
   "id": "916fc4e7",
   "metadata": {},
   "outputs": [
    {
     "data": {
      "text/plain": [
       "'【国内7月2日発売予定】ナイキ エアフォース 1 ‘07 LV8 \"ワールド チャンプ\" ホワイト/ブラック(DR9866-100)'"
      ]
     },
     "execution_count": 52,
     "metadata": {},
     "output_type": "execute_result"
    }
   ],
   "source": [
    "soup_name=soup.find(\"h1\",attrs={\"class\",\"title\"}).text\n",
    "soup_name"
   ]
  },
  {
   "cell_type": "code",
   "execution_count": 53,
   "id": "b1efe561",
   "metadata": {},
   "outputs": [
    {
     "name": "stdout",
     "output_type": "stream",
     "text": [
      "画像の取得完了\n"
     ]
    }
   ],
   "source": [
    "# 画像の取得\n",
    "# 画像の処理\n",
    "response = requests.get(soup_img)\n",
    "image = response.content\n",
    "files = {\"media\" : image}\n",
    "req_media = twitter.post(url_media, files = files)\n",
    "media_id = json.loads(req_media.text)['media_id']\n",
    "print('画像の取得完了')"
   ]
  },
  {
   "cell_type": "code",
   "execution_count": 54,
   "id": "70e96273",
   "metadata": {},
   "outputs": [
    {
     "data": {
      "text/plain": [
       "'国内価格13,200円 '"
      ]
     },
     "execution_count": 54,
     "metadata": {},
     "output_type": "execute_result"
    }
   ],
   "source": [
    "soup_price=soup.find(\"dl\",attrs={\"class\",\"extramode\"}).text[soup.find(\"dl\",attrs={\"class\",\"extramode\"}).text.find(\"国内価格\"):]\n",
    "soup_price"
   ]
  },
  {
   "cell_type": "code",
   "execution_count": 55,
   "id": "a431f135",
   "metadata": {},
   "outputs": [
    {
     "data": {
      "text/plain": [
       "<Response [200]>"
      ]
     },
     "execution_count": 55,
     "metadata": {},
     "output_type": "execute_result"
    }
   ],
   "source": [
    "params = {'status':\"新スニ情報！！！!!!\\n\\n{}\\n\\n{}\".format(soup_name,soup_price,),'media_ids':[media_id]}\n",
    "twitter.post(url_text, params = params)"
   ]
  },
  {
   "cell_type": "code",
   "execution_count": null,
   "id": "bd2488c9",
   "metadata": {},
   "outputs": [],
   "source": []
  },
  {
   "cell_type": "code",
   "execution_count": null,
   "id": "87dda186",
   "metadata": {},
   "outputs": [],
   "source": []
  },
  {
   "cell_type": "code",
   "execution_count": null,
   "id": "0b3c6a7d",
   "metadata": {},
   "outputs": [],
   "source": []
  },
  {
   "cell_type": "code",
   "execution_count": null,
   "id": "a8efcd71",
   "metadata": {},
   "outputs": [],
   "source": []
  },
  {
   "cell_type": "code",
   "execution_count": null,
   "id": "5a127ceb",
   "metadata": {},
   "outputs": [],
   "source": [
    "# 記事の取得 \n",
    "soup_article=soup.find_all(\"article\",attrs={\"class\",\"article-list\"})[0]      \n",
    "soup_text=soup_article.find_all(\"h3\")[0].find(\"a\").text.replace(\"\\n\",\"\").replace(\"\\t\",\"\").replace(\"定価/\",\"\")\n",
    "# 画像の取得\n",
    "soup_img=soup_article.find_all(\"img\")[0]['src']\n",
    "# 詳細ページのリンクを取得\n",
    "soup_url=\"https://snkrdunk.com/\"+soup_article.find(\"a\")['href']\n",
    "# 画像の処理\n",
    "response = requests.get(soup_img)\n",
    "image = response.content\n",
    "files = {\"media\" : image}\n",
    "req_media = twitter.post(url_media, files = files)\n",
    "media_id = json.loads(req_media.text)['media_id']\n",
    "print('画像の取得完了')\n",
    "\n",
    "\n",
    "print(\"ここから詳細ページ\")\n",
    "try:\n",
    "    URL = soup_url\n",
    "    # リクエストヘッダの指定\n",
    "    headers = {\"User-Agent\": \"hoge\"}\n",
    "    response = requests.get(URL,  headers=headers)\n",
    "    r_text=response.text\n",
    "    soup = BeautifulSoup(r_text, 'html.parser')\n",
    "\n",
    "    if soup_text[:5]==\"【リーク】\":\n",
    "        soup_h1=soup.find_all(\"h1\",attrs={\"class\",\"page-title\"})[0].text.replace(\"抽選/定価/販売店舗まとめ\",\"\").replace(\"【リーク】\",\"\")\n",
    "        soup_text=soup.find_all(\"div\",attrs={\"class\",\"article-content\"})[0].text.replace(\"\\n\",\"\").replace(\"\\t\",\"\")\n",
    "        pos1=soup_text.find(\"について\")\n",
    "        text1=soup_text[pos1+4:]\n",
    "        pos2=text1.find(\"発売予定！\")\n",
    "        soup_cap=text1[:pos2+5]\n",
    "        params = {'status':\"リーク情報!!!\\n\\n{}\\n\\n{}\\n\\n情報が入り次第更新!!!\".format(soup_h1,soup_cap),'media_ids':[media_id]}\n",
    "        wb = openpyxl.load_workbook('sneaker.xlsx')\n",
    "        time.sleep(1)\n",
    "        ws = wb[\"Sheet1\"]\n",
    "        for i in range(wb['Sheet1'].max_row):\n",
    "            if ws.cell(row=i+1,column=1).value==params[\"status\"]:\n",
    "                print(\"投稿済みです\")\n",
    "                break    \n",
    "            elif i==wb['Sheet1'].max_row-1:\n",
    "                twitter.post(url_text, params = params)\n",
    "                print(\"投稿しました\")    \n",
    "                ws.cell(row=wb['Sheet1'].max_row+1,column=1).value = params[\"status\"]\n",
    "                wb.save('sneaker.xlsx')\n",
    "        print(\"\")\n",
    "    elif soup_text[:5]==\"【販売リン\":\n",
    "        a_count=len(soup.find_all(\"div\",attrs={\"class\",\"sneaker-release-shop-box pre-release\"})[0].find_all(\"a\"))\n",
    "        for i in range(a_count):\n",
    "            soup_block=soup.find_all(\"div\",attrs={\"class\",\"sneaker-release-shop-box\"})[0].find_all(\"a\")[i]\n",
    "            soup_link=soup_block['href']\n",
    "            soup_app_name=soup_block.find_all(\"div\",attrs={\"class\",\"left-box\"})[0].text\n",
    "            soup_data=soup_block.find_all(\"div\",attrs={\"class\",\"shop-right-box\"})[0].text\n",
    "            params = {'status': \"{}\\n\\n{}  {}\\n{}\\n\".format(soup_text,soup_app_name,soup_data,soup_link),'media_ids':[media_id]}\n",
    "            wb = openpyxl.load_workbook('sneaker.xlsx')\n",
    "            time.sleep(1)\n",
    "            ws = wb[\"Sheet1\"]\n",
    "            for i in range(wb['Sheet1'].max_row):\n",
    "                if ws.cell(row=i+1,column=1).value==params[\"status\"]:\n",
    "                    print(\"投稿済みです\")\n",
    "                    break    \n",
    "                elif i==wb['Sheet1'].max_row-1:\n",
    "                    twitter.post(url_text, params = params)\n",
    "                    print(\"投稿しました\")    \n",
    "                    ws.cell(row=wb['Sheet1'].max_row+1,column=1).value = params[\"status\"]\n",
    "                    wb.save('sneaker.xlsx')\n",
    "            print(\"\")\n",
    "    else:\n",
    "        print(\"除外\")\n",
    "        print(\"\")\n",
    "except IndexError:\n",
    "    print(\"INDEX エラーです\")       \n",
    "    print(\"\")\n",
    "\n",
    "except FileNotFoundError:\n",
    "    print(\"NOT FILE エラーです\")       \n",
    "    print(\"\")"
   ]
  }
 ],
 "metadata": {
  "kernelspec": {
   "display_name": "Python 3 (ipykernel)",
   "language": "python",
   "name": "python3"
  },
  "language_info": {
   "codemirror_mode": {
    "name": "ipython",
    "version": 3
   },
   "file_extension": ".py",
   "mimetype": "text/x-python",
   "name": "python",
   "nbconvert_exporter": "python",
   "pygments_lexer": "ipython3",
   "version": "3.9.12"
  }
 },
 "nbformat": 4,
 "nbformat_minor": 5
}
